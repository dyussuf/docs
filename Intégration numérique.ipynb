{
 "cells": [
  {
   "cell_type": "markdown",
   "id": "d5868cfa",
   "metadata": {},
   "source": [
    "Pour rappel, calculer une intégrale $\\int_{a}^{b} f(x) \\ dx$ revient à calculer l’aire sous la courbe de $f$ sur $[a,b]$\n",
    "\n",
    "\\begin{figure}[H]\n",
    "\\centering\n",
    "\\includegraphics[scale=0.3]{i.png}\n",
    "\\end{figure}\n",
    "\n",
    "Cette intégrale peut être difficile, voire impossible, à calculer analytiquement, c'est la raison pour laquelle on recourt aux méthodes numériques pour approximer cette aire."
   ]
  },
  {
   "cell_type": "markdown",
   "id": "8a9ced5e",
   "metadata": {},
   "source": [
    "# Méthode du rectangle \n",
    "\n",
    "## Simple\n",
    "\n",
    "La méthode du rectangle consiste à calculer l’aire sous la courbe en réalisant une approximation avec un rectangle que l’on arrive mieux à calculer (On remplace $f$ par un polynôme d'ordre 0). \n",
    "\n",
    "Il en existe trois variantes, selon la position du point d’échantillonnage dans l'intervalle :\n",
    "\n",
    "Rectangle à gauche :\n",
    "\n",
    "$$\\int_{a}^{b} f(x) \\ dx \\approx (b-a)f(a)$$\n",
    "\n",
    "\\begin{figure}[H]\n",
    "\\centering\n",
    "\\includegraphics[scale=0.3]{rg.png}\n",
    "\\end{figure}\n",
    "\n",
    "\\newpage\n",
    "\n",
    "Rectangle à droite :\n",
    "\n",
    "$$\\int_{a}^{b} f(x) \\ dx \\approx(b-a)f(b)$$\n",
    "\n",
    "\\begin{figure}[H]\n",
    "\\centering\n",
    "\\includegraphics[scale=0.3]{rd.png}\n",
    "\\end{figure}\n",
    "\n",
    "Rectangle au milieu (méthode du point milieu) :\n",
    "\n",
    "$$\\int_{a}^{b} f(x) \\ dx \\approx (b-a)f(\\frac{a+b}{2})$$\n",
    "\n",
    "\\begin{figure}[H]\n",
    "\\centering\n",
    "\\includegraphics[scale=0.3]{rm.png}\n",
    "\\end{figure}\n",
    "\n",
    "## Composite\n",
    "\n",
    "Une meilleure stratégie consiste à décomposer l’intervalle où l’on doit faire l’intégration, soit l’intervalle $[a , b]$, en $n$ sous-intervalles de longueur $\\frac{b-a}{n}$ :\n",
    "\n",
    "Les différents points engendrés sont notés $x_i$ pour $i = 0, 1, 2, · · · , n$. Les valeurs aux extrémités sont $a = x_0$ et $b = x_n$. Dans chaque sous-intervalle $[x_i , x_{i+1}]$, on peut utiliser la méthode du rectangle. On a alors :\n",
    "\n",
    "$$\\int_{a}^{b} f(x)\\ dx = \\sum_{i=0}^{n-1}\\int_{x_i}^{x_{i+1}} f(x)\\ dx$$\n",
    "\n",
    "Rectangle à gauche :\n",
    "\n",
    "$$\\sum_{i=0}^{n-1}\\int_{x_i}^{x_{i+1}} f(x)\\ dx \\approx p\\sum_{i=0}^{n-1}f(x_i)=p\\sum_{i=0}^{n-1}f(a+ip)$$\n",
    "\n",
    "Où $p=\\frac{(b-a)}{n}$ représente le pas.\n",
    "\n",
    "Rectangle à droite :\n",
    "\n",
    "$$\\sum_{i=0}^{n-1}\\int_{x_i}^{x_{i+1}} f(x)\\ dx \\approx p\\sum_{i=1}^{n}f(x_i)=p\\sum_{i=1}^{n}f(a+ip)$$\n",
    "\n",
    "Rectangle au milieu (méthode du point milieu) :\n",
    "\n",
    "$$\\sum_{i=0}^{n-1}\\int_{x_i}^{x_{i+1}} f(x)\\ dx \\approx p\\sum_{i=0}^{n-1}f(\\frac{x_i+x_{i+1}}{2})=p\\sum_{i=0}^{n-1}f(a+(i+\\frac{1}{2})p)$$\n",
    "\n",
    "Plus il y aura de rectangles, plus l’approximation sera fine :\n",
    "\n",
    "\\begin{figure}[H]\n",
    "\\centering\n",
    "\\includegraphics{mr.png}\n",
    "\\end{figure}\n",
    "\n",
    "## Erreur\n",
    "\n",
    "L’ordre d’une méthode numérique mesure la rapidité avec laquelle l’erreur diminue quand le pas devient plus petit.\n",
    "\n",
    "L’erreur dans le cas du rectangle à droite ou à gauche vérifie :\n",
    "\n",
    "$$|erreur| \\leq \\frac{(b-a)p}{2}\\underset{x\\in [a,b]}{max}|f'(x)|$$\n",
    "\n",
    "On dit que c'est une méthode d'ordre 1, l'erreur proportionnelle à $p$.\n",
    "\n",
    "\n",
    "Dans le cas milieu :\n",
    "\n",
    "$$|erreur| \\leq \\frac{(b-a)p^2}{24}\\underset{x\\in [a,b]}{max}|f''(x)|$$\n",
    "\n",
    "C'est une méthode d'ordre 2, l'erreur est proportionnelle à $p^2$.\n",
    "\n",
    "## Exemple\n",
    "\n",
    "Il s’agit d’évaluer numériquement :\n",
    "\n",
    "$$\\int_{0}^{\\frac{\\pi}{2}} sin(x)\\ dx$$ \n",
    "\n",
    "dont la valeur exacte est 1."
   ]
  },
  {
   "cell_type": "code",
   "execution_count": 1,
   "id": "1d870d82",
   "metadata": {},
   "outputs": [],
   "source": [
    "def rectangle_droit_composite(f, a, b, n):\n",
    "    p = (b-a)/n\n",
    "    s = 0\n",
    "    for i in range(1, n+1):\n",
    "        s += f(a+i*p)\n",
    "    return p*s"
   ]
  },
  {
   "cell_type": "markdown",
   "id": "3b9c313d",
   "metadata": {},
   "source": [
    "On commence par 10 intervalles ($p=\\frac{\\pi}{20}$) :"
   ]
  },
  {
   "cell_type": "code",
   "execution_count": 2,
   "id": "aee475eb",
   "metadata": {},
   "outputs": [
    {
     "data": {
      "text/plain": [
       "1.076482802694102"
      ]
     },
     "execution_count": 2,
     "metadata": {},
     "output_type": "execute_result"
    }
   ],
   "source": [
    "import math\n",
    "\n",
    "x = rectangle_droit_composite(math.sin, 0, math.pi/2, 10)\n",
    "\n",
    "x"
   ]
  },
  {
   "cell_type": "markdown",
   "id": "34b6a6e2",
   "metadata": {},
   "source": [
    "Avec une erreur égale :"
   ]
  },
  {
   "cell_type": "code",
   "execution_count": 3,
   "id": "3c92f667",
   "metadata": {},
   "outputs": [
    {
     "data": {
      "text/plain": [
       "-0.07648280269410201"
      ]
     },
     "execution_count": 3,
     "metadata": {},
     "output_type": "execute_result"
    }
   ],
   "source": [
    "1 - x"
   ]
  },
  {
   "cell_type": "markdown",
   "id": "a013f91e",
   "metadata": {},
   "source": [
    "Ensuite, pour 100 intervalles ($p=\\frac{\\pi}{200}$) l'erreur égale :"
   ]
  },
  {
   "cell_type": "code",
   "execution_count": 4,
   "id": "7793c140",
   "metadata": {},
   "outputs": [
    {
     "data": {
      "text/plain": [
       "-0.007833419873582104"
      ]
     },
     "execution_count": 4,
     "metadata": {},
     "output_type": "execute_result"
    }
   ],
   "source": [
    "1 - rectangle_droit_composite(math.sin, 0, math.pi/2, 100)"
   ]
  },
  {
   "cell_type": "markdown",
   "id": "097e4c7d",
   "metadata": {},
   "source": [
    "Et pour 1000 intervalles ($p=\\frac{\\pi}{2000}$) l'erreur égale :"
   ]
  },
  {
   "cell_type": "code",
   "execution_count": 5,
   "id": "abee7994",
   "metadata": {},
   "outputs": [
    {
     "data": {
      "text/plain": [
       "-0.0007851925466306753"
      ]
     },
     "execution_count": 5,
     "metadata": {},
     "output_type": "execute_result"
    }
   ],
   "source": [
    "1 - rectangle_droit_composite(math.sin, 0, math.pi/2, 1000)"
   ]
  },
  {
   "cell_type": "markdown",
   "id": "ca516f13",
   "metadata": {},
   "source": [
    "On peut observer que l'erreur est proportionnelle au pas; en divisant le pas par 10, l'erreur est aussi divisée par 10.\n",
    "\n",
    "\n",
    "# Méthode du trapèze\n",
    "\n",
    "## Simple\n",
    "\n",
    "On procède de la même façon que la méthode du rectangle. Cette fois, cependant, on remplace $f$ par le polynôme de degré 1 passant par les points $(a,f(a))$ et $(b,f(b))$ en réalisant une approximation avec un trapèze. Sa forme épouse mieux la courbe ; l’estimation sera donc plus précise.\n",
    "\n",
    "$$\\int_{a}^{b} f(x) \\ dx \\approx (b-a)\\frac{f(a)+f(b)}{2}$$\n",
    "\n",
    "\\begin{figure}[H]\n",
    "\\centering\n",
    "\\includegraphics[scale=0.3]{t.png}\n",
    "\\end{figure}\n",
    "\n",
    "## Composite\n",
    "\n",
    "Dans chaque sous-intervalle $[x_i , x_{i+1}]$, on peut utiliser la méthode du trapèze. On a alors :\n",
    "\n",
    "$$\\sum_{i=0}^{n-1}\\int_{x_i}^{x_{i+1}} f(x)\\ dx \\approx p\\sum_{i=0}^{n-1}\\frac{f(x_i)+f(x_{i+1})}{2}=p\\sum_{i=0}^{n-1}\\frac{f(a+ip)+f(a+(i+1)p)}{2}=p(\\frac{f(a)+f(b)}{2}+\\sum_{i=1}^{n-1}f(a+ip))$$\n",
    "\n",
    "\\begin{figure}[H]\n",
    "\\centering\n",
    "\\includegraphics{mt.png}\n",
    "\\end{figure}\n",
    "\n",
    "## Erreur\n",
    "\n",
    "L’erreur dans ce cas vérifie :\n",
    "\n",
    "$$|erreur| \\leq \\frac{(b-a)p^2}{12}\\underset{x\\in [a,b]}{max}|f''(x)|$$\n",
    "\n",
    "C'est une méthode d'ordre 2, l'erreur est proportionnelle à $p^2$.\n",
    "\n",
    "## Exemple\n",
    "\n",
    "On reprend le même exemple :\n",
    "\n",
    "$$\\int_{0}^{\\frac{\\pi}{2}} sin(x)\\ dx$$ "
   ]
  },
  {
   "cell_type": "code",
   "execution_count": 6,
   "id": "dad42653",
   "metadata": {},
   "outputs": [],
   "source": [
    "def trapèze_composite(f, a, b, n):\n",
    "    p = (b-a)/n\n",
    "    s = (f(a)+f(b))/2\n",
    "    for i in range(1, n):\n",
    "        s += f(a+i*p)\n",
    "    return p*s"
   ]
  },
  {
   "cell_type": "code",
   "execution_count": 7,
   "id": "d3bb0b27",
   "metadata": {},
   "outputs": [
    {
     "data": {
      "text/plain": [
       "0.21460183660255172"
      ]
     },
     "execution_count": 7,
     "metadata": {},
     "output_type": "execute_result"
    }
   ],
   "source": [
    "1 - trapèze_composite(math.sin, 0, math.pi/2, 1)"
   ]
  },
  {
   "cell_type": "code",
   "execution_count": 8,
   "id": "4bc9a525",
   "metadata": {},
   "outputs": [
    {
     "data": {
      "text/plain": [
       "0.0020570136456428134"
      ]
     },
     "execution_count": 8,
     "metadata": {},
     "output_type": "execute_result"
    }
   ],
   "source": [
    "1 - trapèze_composite(math.sin, 0, math.pi/2, 10)"
   ]
  },
  {
   "cell_type": "code",
   "execution_count": 9,
   "id": "3dc8d1ea",
   "metadata": {},
   "outputs": [
    {
     "data": {
      "text/plain": [
       "2.0561760392445727e-05"
      ]
     },
     "execution_count": 9,
     "metadata": {},
     "output_type": "execute_result"
    }
   ],
   "source": [
    "1 - trapèze_composite(math.sin, 0, math.pi/2, 100)"
   ]
  },
  {
   "cell_type": "markdown",
   "id": "f98aa8e1",
   "metadata": {},
   "source": [
    "On remarque facilement la rapidité de convergence de la méthode du trapèze par rapport à la méthode du rectangle droit ou gauche; en divisant le pas par $10$ l'erreur est divisée non pas par 10 mais par $10^2$.\n",
    "\n",
    "\\newpage\n",
    "\n",
    "# TP\n",
    "\n",
    "***Implémenter les méthodes restantes (rectangle gauche et rectangle milieu)***\n",
    "\n",
    "\n",
    "## Méthode de Simpson\n",
    "\n",
    "On reprend le raisonnement utilisé antérieurement, mais cette fois on approxime $f$ \n",
    "par un polynôme de degré 2 dont la courbe passe par les points $(a,f(a))$, $(\\frac{a+b}{2},f(\\frac{a+b}{2}))$ et $(b,f(b))$ :\n",
    "\n",
    "$$\\int_{a}^{b} f(x) \\ dx \\approx \\frac{(b-a)}{6}(f(a)+4f(\\frac{a+b}{2})+f(b))$$\n",
    "\n",
    "\n",
    "1. Écrire une fonction $simpson(f,a,b)$ qui renvoie la valeur approchée de $\\int_{a}^{b} f(x) \\ dx$ par la méthode de $Simpson$.\n",
    "\n",
    "La méthode de $Simpson$ composite s’écrit comme suit :\n",
    "\n",
    "$$\\int_{a}^{b} f(x) \\ dx \\approx \\frac{p}{6}\\sum_{i=0}^{n-1}(f(a+ip)+4f(a+(i+\\frac{1}{2})p)+f(a+(i+1)p)$$\n",
    "\n",
    "avec $p = \\frac{b-a}{n}$.\n",
    "\n",
    "2.  Écrire une fonction $simpson\\_composite(f,a,b,n)$ qui renvoie la valeur approchée de $\\int_{a}^{b} f(x) \\ dx$ par la méthode de $Simpson$.\n",
    "\n",
    "3.  Comparer les résultats en utilisant la méthode $quad(f, a, b)$ du module $scipy.integrate$.\n",
    "\n",
    "## Application\n",
    "\n",
    "Comme la fonction $e^{-x^2}$ n'a pas de primitive (sauf $\\int_{-\\infty}^{+\\infty} e^{-x^2} dx = \\sqrt \\pi$), appliquer les différentes méthodes pour calculer : $$\\int_{0}^{1} e^{-x^2} dx$$\n",
    "\n",
    "et comparer les résultats avec la solution exacte à 9 chiffres : 0,746824133."
   ]
  }
 ],
 "metadata": {
  "kernelspec": {
   "display_name": "Python 3 (ipykernel)",
   "language": "python",
   "name": "python3"
  },
  "language_info": {
   "codemirror_mode": {
    "name": "ipython",
    "version": 3
   },
   "file_extension": ".py",
   "mimetype": "text/x-python",
   "name": "python",
   "nbconvert_exporter": "python",
   "pygments_lexer": "ipython3",
   "version": "3.11.7"
  }
 },
 "nbformat": 4,
 "nbformat_minor": 5
}
