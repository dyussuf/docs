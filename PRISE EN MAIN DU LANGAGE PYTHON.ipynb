{
 "cells": [
  {
   "cell_type": "markdown",
   "metadata": {},
   "source": [
    "# Python en tant que calculatrice : Calculs basiques"
   ]
  },
  {
   "cell_type": "markdown",
   "metadata": {
    "colab_type": "text",
    "id": "tvKENqvhwTDO"
   },
   "source": [
    "Python peut être utilisé comme une simple calculatrice pour mener les opérations basiques :\n",
    "\n",
    "* **Addition** : +\n",
    "\n",
    "* **Soustraction** : -\n",
    "\n",
    "* **Multiplication** : *\n",
    "\n",
    "  - **Puissance** : **\n",
    "\n",
    "* **Division** : /\n",
    "\n",
    "  - **Division entière** : //\n",
    "\n",
    "  - **Modulo (Reste de la division entière)** : %"
   ]
  },
  {
   "cell_type": "code",
   "execution_count": null,
   "metadata": {
    "colab": {
     "base_uri": "https://localhost:8080/",
     "height": 35
    },
    "colab_type": "code",
    "id": "10SxqIcRBDch",
    "outputId": "35e61973-55e4-42f6-dabf-ea88830a9a70"
   },
   "outputs": [],
   "source": [
    "# Addition\n",
    "5 + 3"
   ]
  },
  {
   "cell_type": "markdown",
   "metadata": {},
   "source": [
    "**Les commentaires** sont très importants lors de la réalisation d’un programme, ils décrivent ce qui se passe afin qu’une personne qui consulte le code source n’ait pas de difficulté à le comprendre.\n",
    "\n",
    "En Python, on utilise le symbole dièse (**#**) pour commencer à écrire un commentaire."
   ]
  },
  {
   "cell_type": "code",
   "execution_count": null,
   "metadata": {
    "colab": {
     "base_uri": "https://localhost:8080/",
     "height": 35
    },
    "colab_type": "code",
    "id": "7E_rvNRMBa1z",
    "outputId": "df513bd6-57b3-45fa-e364-16b8ef1963ce"
   },
   "outputs": [],
   "source": [
    "# Soustraction\n",
    "10 - 5.5"
   ]
  },
  {
   "cell_type": "code",
   "execution_count": null,
   "metadata": {
    "colab": {
     "base_uri": "https://localhost:8080/",
     "height": 35
    },
    "colab_type": "code",
    "id": "_W7DAw_HBmDV",
    "outputId": "5744fe42-96c6-47b1-8e4f-1510c727edc6"
   },
   "outputs": [],
   "source": [
    "# Multiplication\n",
    "99 * 7"
   ]
  },
  {
   "cell_type": "code",
   "execution_count": null,
   "metadata": {
    "colab": {
     "base_uri": "https://localhost:8080/",
     "height": 54
    },
    "colab_type": "code",
    "id": "80G8opQ4BxUG",
    "outputId": "90c95844-55c0-4603-fe85-60bbda3c5183"
   },
   "outputs": [],
   "source": [
    "# Division\n",
    "5 / 2"
   ]
  },
  {
   "cell_type": "code",
   "execution_count": null,
   "metadata": {
    "colab": {
     "base_uri": "https://localhost:8080/",
     "height": 54
    },
    "colab_type": "code",
    "id": "4dvEdasSB__2",
    "outputId": "ee2221ac-c580-4a84-c50e-3c3318100a0f"
   },
   "outputs": [],
   "source": [
    "# Division entière\n",
    "5 // 2"
   ]
  },
  {
   "cell_type": "code",
   "execution_count": null,
   "metadata": {
    "colab": {
     "base_uri": "https://localhost:8080/",
     "height": 35
    },
    "colab_type": "code",
    "id": "E_f4U2gvCkOE",
    "outputId": "743911bb-6f62-4c12-9ecd-8739f79eb544"
   },
   "outputs": [],
   "source": [
    "# Modulo\n",
    "5 % 2"
   ]
  },
  {
   "cell_type": "markdown",
   "metadata": {
    "colab_type": "text",
    "id": "XjoKvVlGEhpf"
   },
   "source": [
    "5 modulo 2 égal 1 car le reste de la division de 5 par 2 est 1."
   ]
  },
  {
   "cell_type": "code",
   "execution_count": null,
   "metadata": {},
   "outputs": [],
   "source": [
    "# Puissance\n",
    "5 ** 3"
   ]
  },
  {
   "cell_type": "markdown",
   "metadata": {},
   "source": [
    "* **Ordre de priorité des opérateurs**"
   ]
  },
  {
   "cell_type": "code",
   "execution_count": null,
   "metadata": {
    "colab": {
     "base_uri": "https://localhost:8080/",
     "height": 35
    },
    "colab_type": "code",
    "id": "C1Y7_LLvEzzo",
    "outputId": "15509f67-ab8f-4c65-858a-f9e7b2f57612"
   },
   "outputs": [],
   "source": [
    "(5 + 2) * -3"
   ]
  },
  {
   "cell_type": "markdown",
   "metadata": {
    "colab_type": "text",
    "id": "Ua7AiMkwFIvM"
   },
   "source": [
    "Python évalue d'abord ce qui est entre parenthèses."
   ]
  },
  {
   "cell_type": "code",
   "execution_count": null,
   "metadata": {
    "colab": {
     "base_uri": "https://localhost:8080/",
     "height": 35
    },
    "colab_type": "code",
    "id": "baxRZUzNFgLW",
    "outputId": "24dd6caa-585f-44de-c53a-59843b6b209b"
   },
   "outputs": [],
   "source": [
    "# Même calcul sans parenthèses\n",
    "5 + 2 * -3"
   ]
  },
  {
   "cell_type": "markdown",
   "metadata": {
    "colab_type": "text",
    "id": "H-ImyNYPGnIO"
   },
   "source": [
    "La multiplication est prioritaire sur l'addition et la soustraction."
   ]
  },
  {
   "cell_type": "code",
   "execution_count": null,
   "metadata": {
    "colab": {
     "base_uri": "https://localhost:8080/",
     "height": 35
    },
    "colab_type": "code",
    "id": "8jLiwlVEIalw",
    "outputId": "cc7002a6-f330-40cd-8d4d-907d0d4bd6eb"
   },
   "outputs": [],
   "source": [
    "2 * 5 ** 3"
   ]
  },
  {
   "cell_type": "markdown",
   "metadata": {
    "colab_type": "text",
    "id": "I7tQKJlsInUq"
   },
   "source": [
    "La puissance est prioritaire sur la multiplication.\n",
    "\n"
   ]
  },
  {
   "cell_type": "markdown",
   "metadata": {
    "colab_type": "text",
    "id": "El2L0EX38fre"
   },
   "source": [
    "**CONSEIL : Pour ne pas se tromper sur l'ordre des opérations surtout quand on manipule des expressions plus ou moins complexes, il faut recourir aux parenthèses**."
   ]
  },
  {
   "cell_type": "markdown",
   "metadata": {},
   "source": [
    "# Déclaration des données  et Affectation\n",
    "\n",
    "La déclaration des données est sous la forme d'une initialisation et une affectation, le type de la variable est automatiquement détecté."
   ]
  },
  {
   "cell_type": "code",
   "execution_count": null,
   "metadata": {
    "colab": {
     "base_uri": "https://localhost:8080/",
     "height": 35
    },
    "colab_type": "code",
    "id": "jNX9NwpTOA78",
    "outputId": "1974289c-c09b-437f-b14b-8b049f9bc17f"
   },
   "outputs": [],
   "source": [
    "x = 7\n",
    "x1 = x + 1\n",
    "x2 = x - 1\n",
    "name = 'Omar'"
   ]
  },
  {
   "cell_type": "markdown",
   "metadata": {},
   "source": [
    "## Types des objets\n",
    "\n",
    "La fonction **type()** permet de déterminer le type de tout objet Python."
   ]
  },
  {
   "cell_type": "code",
   "execution_count": null,
   "metadata": {},
   "outputs": [],
   "source": [
    "# Type de 7\n",
    "type(7)"
   ]
  },
  {
   "cell_type": "markdown",
   "metadata": {},
   "source": [
    "7 est un nombre entier (**int** mis pour **integer** dans Python)."
   ]
  },
  {
   "cell_type": "code",
   "execution_count": null,
   "metadata": {},
   "outputs": [],
   "source": [
    "# Type de 7.1\n",
    "type(7.1)"
   ]
  },
  {
   "cell_type": "markdown",
   "metadata": {},
   "source": [
    "7.1 est un nombre décimal (**float** dans Python)."
   ]
  },
  {
   "cell_type": "code",
   "execution_count": null,
   "metadata": {},
   "outputs": [],
   "source": [
    "# Type de 'Hello world'\n",
    "type('Hello world')"
   ]
  },
  {
   "cell_type": "markdown",
   "metadata": {},
   "source": [
    "'Hello world' est une chaîne de caractères (**str** mis pour **string** dans Python)."
   ]
  },
  {
   "cell_type": "code",
   "execution_count": null,
   "metadata": {},
   "outputs": [],
   "source": [
    "# Type de la variable x\n",
    "\n",
    "type(x)"
   ]
  },
  {
   "cell_type": "code",
   "execution_count": null,
   "metadata": {},
   "outputs": [],
   "source": [
    "# Type de la variable name\n",
    "\n",
    "type(name)"
   ]
  },
  {
   "cell_type": "markdown",
   "metadata": {},
   "source": [
    "***Exercice d'application***\n",
    "\n",
    "1. Affecte **100** à la variable **x1**. Quel est son type ?\n",
    "2. Affecte **x1 - 30** à la variable **x2**.\n",
    "3. Affecte **x2** divisé par **10** à la variable **x2**. Quel est son type ?"
   ]
  },
  {
   "cell_type": "code",
   "execution_count": null,
   "metadata": {},
   "outputs": [],
   "source": [
    "#1\n",
    "\n",
    "x1 = 100\n",
    "type(x1)"
   ]
  },
  {
   "cell_type": "code",
   "execution_count": null,
   "metadata": {},
   "outputs": [],
   "source": [
    "#2\n",
    "\n",
    "x2 = x1 - 30\n",
    "x2 = x2 / 10\n",
    "type(x2)"
   ]
  },
  {
   "cell_type": "markdown",
   "metadata": {
    "colab_type": "text",
    "id": "ZlDJJ1aqLYhf"
   },
   "source": [
    "# Écriture"
   ]
  },
  {
   "cell_type": "code",
   "execution_count": null,
   "metadata": {
    "colab": {
     "base_uri": "https://localhost:8080/",
     "height": 35
    },
    "colab_type": "code",
    "id": "aOIJetVfLvDH",
    "outputId": "89e2e4a3-c9ae-4675-e9d9-d9121c4f2dd7"
   },
   "outputs": [],
   "source": [
    "#Afficher 'Hello world'\n",
    "\n",
    "print('Hello world')"
   ]
  },
  {
   "cell_type": "code",
   "execution_count": null,
   "metadata": {
    "colab": {
     "base_uri": "https://localhost:8080/",
     "height": 35
    },
    "colab_type": "code",
    "id": "ks5-k3MZLzMh",
    "outputId": "f0c1df1c-63b4-4955-8530-2ddccd2ca38d"
   },
   "outputs": [],
   "source": [
    "#Afficher la valeur de la variable x\n",
    "\n",
    "print(x)"
   ]
  },
  {
   "cell_type": "code",
   "execution_count": null,
   "metadata": {},
   "outputs": [],
   "source": [
    "#Afficher la valeur de la variable name\n",
    "\n",
    "print(name)"
   ]
  },
  {
   "cell_type": "code",
   "execution_count": null,
   "metadata": {},
   "outputs": [],
   "source": [
    "#Combinaison d'une chaîne de caractères et d'une variable\n",
    "\n",
    "print('Hello world, my name is', name)"
   ]
  },
  {
   "cell_type": "code",
   "execution_count": null,
   "metadata": {},
   "outputs": [],
   "source": [
    "print(\"Hello world, my name is\", name, \",I'm\", x, \"years old.\")"
   ]
  },
  {
   "cell_type": "code",
   "execution_count": null,
   "metadata": {},
   "outputs": [],
   "source": [
    "#Ou encore\n",
    "print(f\"Hello world, my name is {name}, I'm {x} years old.\")"
   ]
  },
  {
   "cell_type": "code",
   "execution_count": null,
   "metadata": {},
   "outputs": [],
   "source": [
    "print(7+33)"
   ]
  },
  {
   "cell_type": "code",
   "execution_count": null,
   "metadata": {},
   "outputs": [],
   "source": [
    "print(x1-x2)"
   ]
  },
  {
   "cell_type": "markdown",
   "metadata": {},
   "source": [
    "# Lecture"
   ]
  },
  {
   "cell_type": "markdown",
   "metadata": {},
   "source": [
    "Pour lire une donnée à partir du clavier on utilise **input()**.\n",
    "Écrivons un petit programme qui demande le nom de l'utilisateur et le salue puis demande l'âge de ce même utilisateur."
   ]
  },
  {
   "cell_type": "code",
   "execution_count": null,
   "metadata": {},
   "outputs": [],
   "source": [
    "print(\"Comment t'appelles-tu?\")\n",
    "name = input()\n",
    "print(\"Bonjour\", name)\n",
    "print(\"Quel âge as-tu?\")\n",
    "age = input()"
   ]
  },
  {
   "cell_type": "code",
   "execution_count": null,
   "metadata": {},
   "outputs": [],
   "source": [
    "#Ou encore\n",
    "\n",
    "name = input(\"Comment t'appelles-tu? \")\n",
    "print(\"Bonjour\", name)\n",
    "age = input(\"Quel âge as-tu? \")"
   ]
  },
  {
   "cell_type": "markdown",
   "metadata": {},
   "source": [
    "***Exercice d'application***\n",
    "\n",
    "1. Demander le prénom de l'utilisateur et stocker la réponse sous le nom **first_name**.\n",
    "2. Demander le nom de l'utilisateur sous le nom **last_name**.\n",
    "3. Afficher à l'écran la phrase **\"Vous vous appellez \"** et le nom complet.\n",
    "4. Demander l'âge de l'utilisateur sous le nom **age**.\n",
    "5. Afficher à l'écran son année de naissance."
   ]
  },
  {
   "cell_type": "code",
   "execution_count": null,
   "metadata": {},
   "outputs": [],
   "source": [
    "#1\n",
    "first_name = input(\"Prénom \")\n",
    "\n",
    "#2\n",
    "last_name = input(\"Nom \")\n",
    "\n",
    "#3\n",
    "print(\"Vous vous appellez\", first_name, last_name)\n",
    "\n",
    "#4\n",
    "age = input(\"Âge \")"
   ]
  },
  {
   "cell_type": "markdown",
   "metadata": {},
   "source": [
    "## Casting (Conversion de type)"
   ]
  },
  {
   "cell_type": "code",
   "execution_count": null,
   "metadata": {
    "scrolled": true
   },
   "outputs": [],
   "source": [
    "#5\n",
    "print(\"Vous êtes née en\", 2024-age)"
   ]
  },
  {
   "cell_type": "markdown",
   "metadata": {},
   "source": [
    "On ne peut soustraire une chaîne de caractères (age) à un entier (2024). Même si la valeur entrée est 21, Python la traite par défaut comme une chaîne de caractères. Pour cela, un changement de type est nécessaire en mettant la variable entre parenthèses précédée par le type voulu."
   ]
  },
  {
   "cell_type": "code",
   "execution_count": null,
   "metadata": {},
   "outputs": [],
   "source": [
    "#5\n",
    "print(\"Vous êtes née en\", 2024-int(age))"
   ]
  },
  {
   "cell_type": "markdown",
   "metadata": {},
   "source": [
    "\\newpage\n",
    "\n",
    "# TP\n",
    "\n",
    "***Exercice 1***\n",
    "\n",
    "Écrire un programme pour calculer la moyenne de trois notes données par l'utilisateur.\n",
    "\n",
    "***Exercice 2***\n",
    "\n",
    "Écrire un programme tel que à partir de la distance en ***kilomètre*** et la durée en ***heure*** calcule la vitesse en ***km/h*** et en ***m/s***.\n",
    "\n",
    "***Exercice 3***\n",
    "\n",
    "Écrire un programme pour calculer dans un espace de deux dimensions la distance entre deux points et leur point milieu.\n",
    "\n",
    "***Exercice 4***\n",
    "\n",
    "Écrire un programme pour calculer l'aire et le périmètre d'un cercle.\n",
    "\n",
    "***Exercice 5***\n",
    "\n",
    "Écrire un programme pour permuter les valeurs de deux variables.\n",
    "\n",
    "***Exercice 6***\n",
    "\n",
    "Écrire un programme pour convertir un nombre donné de secondes en un nombre entier d'heures, de minutes et de secondes.\n",
    "\n",
    "# Résolution"
   ]
  },
  {
   "cell_type": "code",
   "execution_count": null,
   "id": "9b61e485",
   "metadata": {},
   "outputs": [],
   "source": [
    "# Exercice 1\n",
    "\n",
    "note1=eval(input(\"Note 1 : \"))\n",
    "note2=eval(input(\"Note 2 : \"))\n",
    "note3=eval(input(\"Note 3 : \"))\n",
    "moyenne=(note1+note1+note3)/3\n",
    "print(\"La moyenne :\", round(moyenne,2))"
   ]
  },
  {
   "cell_type": "code",
   "execution_count": null,
   "id": "74b6974f",
   "metadata": {},
   "outputs": [],
   "source": [
    "# Exercice 2\n",
    "\n",
    "distance=eval(input(\"La distance en kilomètre : \"))\n",
    "duration=eval(input(\"la durée en heure : \"))\n",
    "speed=distance/duration\n",
    "print(\"La vitesse :\", round(speed,2), \"km/h\")"
   ]
  },
  {
   "cell_type": "code",
   "execution_count": null,
   "id": "2f048db7",
   "metadata": {},
   "outputs": [],
   "source": [
    "# Exercice 3\n",
    "\n",
    "import math\n",
    "\n",
    "a1=eval(input(\"L'abscisse du premier point : \"))\n",
    "o1=eval(input(\"L'ordonnée  du premier point : \"))\n",
    "a2=eval(input(\"L'abscisse du deuxième  point : \"))\n",
    "o2=eval(input(\"L'ordonnée  du deuxième point : \"))\n",
    "d=math.sqrt((a1-a2)**2+(o1-o2)**2)\n",
    "am=(a1+a2)/2\n",
    "om=(o1+o2)/2\n",
    "print(\"La distance entre les deux points :\", round(d,2))\n",
    "print(f\"Les coordonnées du point milieu : ({am}, {om})\")"
   ]
  },
  {
   "cell_type": "code",
   "execution_count": null,
   "id": "cd425787",
   "metadata": {},
   "outputs": [],
   "source": [
    "# Exercice 4\n",
    "\n",
    "r=eval(input(\"Rayon : \"))\n",
    "p=2*math.pi*r\n",
    "a=math.pi*r*r\n",
    "print(\"Le périmètre :\", round(p,2))\n",
    "print(\"L'aire :\", round(a,2))"
   ]
  },
  {
   "cell_type": "code",
   "execution_count": null,
   "id": "9f1f443b",
   "metadata": {},
   "outputs": [],
   "source": [
    "# Exercice 5\n",
    "\n",
    "v1 = eval(input(\"Variable 1 : \"))\n",
    "v2 = eval(input(\"Variable 2 : \"))\n",
    "\n",
    "v3 = v1 #pour garder la valeur de la première variable\n",
    "v1 = v2\n",
    "v2 = v3"
   ]
  },
  {
   "cell_type": "code",
   "execution_count": null,
   "id": "3ee36eab",
   "metadata": {},
   "outputs": [],
   "source": [
    "#Ou encore dans le cas de Python\n",
    "\n",
    "v1, v2 = v2, v1"
   ]
  },
  {
   "cell_type": "code",
   "execution_count": null,
   "id": "7ad0410b",
   "metadata": {
    "scrolled": true
   },
   "outputs": [],
   "source": [
    "# Exercice 6\n",
    "\n",
    "x = eval(input(\"Nombre de secondes : \"))\n",
    "\n",
    "heure = x//3600\n",
    "reste = x%3600\n",
    "\n",
    "minute = reste//60\n",
    "\n",
    "seconde = reste%60\n",
    "\n",
    "print(f\"{heure} heures, {minute} minutes et {seconde} secondes.\")"
   ]
  }
 ],
 "metadata": {
  "colab": {
   "collapsed_sections": [],
   "name": "Programmation en Python pour la Data Science Partie 1.ipynb",
   "provenance": []
  },
  "kernelspec": {
   "display_name": "Python 3 (ipykernel)",
   "language": "python",
   "name": "python3"
  },
  "language_info": {
   "codemirror_mode": {
    "name": "ipython",
    "version": 3
   },
   "file_extension": ".py",
   "mimetype": "text/x-python",
   "name": "python",
   "nbconvert_exporter": "python",
   "pygments_lexer": "ipython3",
   "version": "3.11.7"
  }
 },
 "nbformat": 4,
 "nbformat_minor": 4
}
